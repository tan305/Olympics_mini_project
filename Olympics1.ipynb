{
 "cells": [
  {
   "cell_type": "code",
   "execution_count": 1,
   "metadata": {
    "collapsed": true
   },
   "outputs": [],
   "source": [
    "import pandas as pd\n",
    "import numpy as np"
   ]
  },
  {
   "cell_type": "code",
   "execution_count": 2,
   "metadata": {
    "collapsed": true
   },
   "outputs": [],
   "source": [
    "def load_data():\n",
    "    df=pd.read_csv(\"files/olympics.csv\",skiprows=1)\n",
    "\n",
    "    for i in df.columns:\n",
    "        if \"01\" in i:\n",
    "            df.rename(columns={i:\"Gold\"},inplace=True)\n",
    "        if \"02\" in i:\n",
    "            df.rename(columns={i:\"Silver\"},inplace=True)\n",
    "        if \"03\" in i:\n",
    "            df.rename(columns={i:\"Bronze\"},inplace=True)    \n",
    "\n",
    "    a=pd.DataFrame(df[\"Unnamed: 0\"].str.split('\\xa0',1).tolist(),columns = ['Country_name','Country_Code'])\n",
    "\n",
    "    for i in range(0,len(a)):\n",
    "        a.Country_Code[i]=str(a.Country_Code[i])[:4].strip(\"()\")\n",
    "\n",
    "    df=pd.concat([a,df],axis=1)\n",
    "    df=df.set_index('Country_name')\n",
    "    df.drop(\"Unnamed: 0\",axis=1,inplace=True)\n",
    "    df.drop(\"Totals\",axis=0,inplace=True)\n",
    "    return df"
   ]
  },
  {
   "cell_type": "code",
   "execution_count": 3,
   "metadata": {
    "collapsed": true
   },
   "outputs": [],
   "source": [
    "df=load_data()"
   ]
  },
  {
   "cell_type": "code",
   "execution_count": 4,
   "metadata": {
    "collapsed": true
   },
   "outputs": [],
   "source": [
    "def first_country(df):\n",
    "    return df.iloc[0]"
   ]
  },
  {
   "cell_type": "code",
   "execution_count": 5,
   "metadata": {},
   "outputs": [],
   "source": [
    "def gold_medal(df):\n",
    "    return df.iloc[:,2].argmax()"
   ]
  },
  {
   "cell_type": "code",
   "execution_count": 6,
   "metadata": {
    "collapsed": true
   },
   "outputs": [],
   "source": [
    "def biggest_difference_in_gold_medal(df):\n",
    "    return abs(df.iloc[:,2]-df.iloc[:,7]).argmax()"
   ]
  },
  {
   "cell_type": "code",
   "execution_count": 7,
   "metadata": {
    "collapsed": true
   },
   "outputs": [],
   "source": [
    "def get_points(df):\n",
    "    df[\"Points\"]=df.iloc[:,12]*3+df.iloc[:,13]*2+df.iloc[:,14]*1\n",
    "    return df.Points"
   ]
  },
  {
   "cell_type": "code",
   "execution_count": 8,
   "metadata": {},
   "outputs": [],
   "source": [
    "def k_means(df):    \n",
    "    from sklearn.cluster import KMeans\n",
    "    df.drop(\"Country_Code\",axis=1,inplace=True)\n",
    "    kmeans=KMeans(random_state=0)\n",
    "    kmeans.fit(df)\n",
    "    return kmeans.cluster_centers_"
   ]
  }
 ],
 "metadata": {
  "kernelspec": {
   "display_name": "Python 3",
   "language": "python",
   "name": "python3"
  },
  "language_info": {
   "codemirror_mode": {
    "name": "ipython",
    "version": 3
   },
   "file_extension": ".py",
   "mimetype": "text/x-python",
   "name": "python",
   "nbconvert_exporter": "python",
   "pygments_lexer": "ipython3",
   "version": "3.6.2"
  }
 },
 "nbformat": 4,
 "nbformat_minor": 2
}
